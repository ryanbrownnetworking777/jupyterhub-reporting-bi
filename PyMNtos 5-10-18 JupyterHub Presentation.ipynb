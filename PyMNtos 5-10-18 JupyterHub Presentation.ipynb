{
 "cells": [
  {
   "cell_type": "markdown",
   "metadata": {
    "slideshow": {
     "slide_type": "slide"
    }
   },
   "source": [
    "# JupyterHub for Pythonic Reporting and Self-Service BI"
   ]
  },
  {
   "cell_type": "code",
   "execution_count": 5,
   "metadata": {
    "slideshow": {
     "slide_type": "fragment"
    }
   },
   "outputs": [
    {
     "data": {
      "image/jpeg": "[encoded data removed]",
      "text/plain": [
       "<IPython.core.display.Image object>"
      ]
     },
     "execution_count": 5,
     "metadata": {},
     "output_type": "execute_result"
    }
   ],
   "source": [
    "from IPython.display import Image\n",
    "Image('hub.jpeg')"
   ]
  },
  {
   "cell_type": "markdown",
   "metadata": {
    "slideshow": {
     "slide_type": "slide"
    }
   },
   "source": [
    "# About Me\n",
    "\n",
    "3 year Supply Chain Analyst who got addicted to Python for analytics and reporting. Worked supporting manufacturing organizations. Built out no-budget reporting solutions to serve various cross-department needs with a JupyterHub server running python notebooks. Newly minted Analytics Experience consultant with Avanade.\n"
   ]
  },
  {
   "cell_type": "markdown",
   "metadata": {
    "slideshow": {
     "slide_type": "slide"
    }
   },
   "source": [
    "# Outline\n",
    "\n",
    "## 1. Introduction to JupyterHub\n",
    "\n",
    "## 2. Why JupyterHub @ Cenveo\n",
    "\n",
    "## 3. JupyterHub Installation\n",
    "\n",
    "## 4. JupyterHub General Configuration\n",
    "\n",
    "## 5. JupyterHub Configuration for Pythonic Reporting and Self-Service BI\n",
    "\n",
    "## 6. Result @ Cenveo\n",
    "\n",
    "## 7. Possible Improvements"
   ]
  },
  {
   "cell_type": "markdown",
   "metadata": {
    "slideshow": {
     "slide_type": "slide"
    }
   },
   "source": [
    "# Introduction to JupyterHub\n",
    "\n",
    "- \"The Jupyter Notebook is an open-source web application that allows you to create and share documents that contain live code, equations, visualizations and narrative text\" (Jupyter Project)\n",
    "\n",
    "- JupyterHub is \"A multi-user version of the [Jupyter] notebook designed for companies, classrooms and research labs\" (Jupyter Project). \n",
    "\n",
    "- Creates a \"multi-user Hub which spawns, manages, and proxies multiple instances of the single-user Jupyter notebook server\" (JupyterHub Github)\n"
   ]
  },
  {
   "cell_type": "markdown",
   "metadata": {
    "slideshow": {
     "slide_type": "subslide"
    }
   },
   "source": [
    "# Introduction to JupyterHub\n",
    "\n",
    "From JupyterHub GitHub:\n",
    "\n",
    "Three main actors make up JupyterHub:\n",
    "\n",
    "   - multi-user Hub (tornado process)\n",
    "   - configurable http proxy (node-http-proxy)\n",
    "   - multiple single-user Jupyter notebook servers (Python/Jupyter/tornado)\n",
    "\n",
    "Basic principles for operation are:\n",
    "\n",
    " - Hub launches a proxy.\n",
    " - Proxy forwards all requests to Hub by default.\n",
    " - Hub handles login, and spawns single-user servers on demand.\n",
    " - Hub configures proxy to forward url prefixes to the single-user notebook servers.\n",
    " - JupyterHub also provides a REST API for administration of the Hub and its users."
   ]
  },
  {
   "cell_type": "markdown",
   "metadata": {
    "slideshow": {
     "slide_type": "subslide"
    }
   },
   "source": [
    "# Introduction to JupyterHub\n",
    "\n",
    " - Live Demo"
   ]
  },
  {
   "cell_type": "markdown",
   "metadata": {
    "slideshow": {
     "slide_type": "slide"
    }
   },
   "source": [
    "# Why JupyterHub @ Cenveo\n",
    "\n",
    "- Needed to be able to share results of python computations with my team in Supply Chain.  \n",
    "\n",
    "- Wanted an interactive web-environment.\n",
    "\n",
    "- Sought quick implementation.\n",
    "\n",
    "- Had no budget for direct hardware or software implemantation on this project."
   ]
  },
  {
   "cell_type": "markdown",
   "metadata": {
    "slideshow": {
     "slide_type": "slide"
    }
   },
   "source": [
    "# JupyterHub Installation\n",
    "\n",
    "- System Requirements from JupyterHub Github:\n",
    "    - Unix-like OS\n",
    "    - Python 3.4 or greater\n",
    "    - nodejs/npm (for the proxy)\n",
    "    - TLS/SSL certificates\n",
    "    - Domain Name"
   ]
  },
  {
   "cell_type": "markdown",
   "metadata": {
    "slideshow": {
     "slide_type": "subslide"
    }
   },
   "source": [
    "# JupyterHub Installation\n",
    "\n",
    "- Install NodeJS\n",
    "    - need to install nodejs-legacy package for Debian/Ubuntu\n",
    "        - sudo apt-get install npm nodejs-legacy\n",
    "    - Otherwise nodejs for other distributions\n",
    "        - Example Red Hat installation:\n",
    "            - curl --silent --location https://rpm.nodesource.com/setup_10.x | sudo bash -\n",
    "            - sudo yum -y install nodejs\n",
    "            - sudo yum install gcc-c++ make for compiling and installing native addons from npm\n",
    "    - More detail on Node.js's website under 'Installing Node.js via package manager'\n",
    "    - Sourced from JupyterHub github and Node.js website. \n",
    "\n",
    "    "
   ]
  },
  {
   "cell_type": "markdown",
   "metadata": {
    "slideshow": {
     "slide_type": "subslide"
    }
   },
   "source": [
    "# JupyterHub Installation\n",
    "\n",
    " - Install Proxy\n",
    "     - npm install -g configurable-http-proxy\n",
    " - Install JupyterHub\n",
    "     - pip install jupyterhub (pip3 if working with both python 2 and 3)\n"
   ]
  },
  {
   "cell_type": "markdown",
   "metadata": {
    "slideshow": {
     "slide_type": "subslide"
    }
   },
   "source": [
    "# JupyterHub Installation\n",
    "\n",
    "- Running JupyterHub\n",
    "    - Basic, non-accessible: jupyterhub\n",
    "    - Accessible: sudo jupyterhub\n",
    "- Logging into JupyterHub\n",
    "    - Basic installation uses Unix credentials\n",
    "    - Mulitiple authentication schemes available\n"
   ]
  },
  {
   "cell_type": "markdown",
   "metadata": {
    "slideshow": {
     "slide_type": "slide"
    }
   },
   "source": [
    "# JupyterHub General Configuration\n",
    "\n",
    "- From JupyterHub Github:\n",
    "    - Generate config file:\n",
    "        - jupyterhub --generate-config\n",
    "    - Start JupyterHub with command line arguments:\n",
    "        - jupyterhub --ip 10.0.1.2 --port 443 --ssl-key my_ssl.key --ssl-cert my_ssl.cert\n",
    "\n"
   ]
  },
  {
   "cell_type": "markdown",
   "metadata": {
    "slideshow": {
     "slide_type": "subslide"
    }
   },
   "source": [
    "# JupyterHub General Configuration\n",
    "\n",
    "- From JupyterHub Github and various downstream links from that page:\n",
    "    - Significant options for authentication:\n",
    "        - PAM\n",
    "        - Oauth, including Azure and Github itself\n",
    "        - Kerberos\n",
    "        - More\n",
    "    - Significant options for spawners:\n",
    "        - LocalProcess (default and my current implementation)\n",
    "        - Docker\n",
    "        - Kubernetes\n",
    "        - Sudospawner, non-root spawner of single user servers.\n",
    "    - Docker deployement as well\n",
    "    - JupyterHub not officially supported on Windows"
   ]
  },
  {
   "cell_type": "markdown",
   "metadata": {
    "slideshow": {
     "slide_type": "subslide"
    }
   },
   "source": [
    "# JupyterHub General Configuration\n",
    "\n",
    "- From JupyterHub Read the Docs:\n",
    "    - Configuring SSL/TSL\n",
    "        - c.JupyterHub.ssl_key = '/path/to/my.key'\n",
    "        - c.JupyterHub.ssl_cert = '/path/to/my.cert'\n",
    "        - LetsEncrypt support available\n",
    "    - Important because JupyterHub runs arbitraty code against a system\n"
   ]
  },
  {
   "cell_type": "markdown",
   "metadata": {
    "slideshow": {
     "slide_type": "slide"
    }
   },
   "source": [
    "# JupyterHub Configuration for Pythonic Reporting and Self-Service BI\n",
    "\n",
    " - Overall Set Up\n",
    "     - Ubuntu 16.04 Server LTS\n",
    "     - Let's Encrypt SSL\n",
    "     - Runnable as Service\n",
    "     - Custom Notebook Standards\n",
    "     - Custom Extensions\n",
    "\n"
   ]
  },
  {
   "cell_type": "markdown",
   "metadata": {
    "slideshow": {
     "slide_type": "subslide"
    }
   },
   "source": [
    "# JupyterHub Configuration for Pythonic Reporting and Self-Service BI\n",
    "\n",
    "- Ubuntu System Set Up\n",
    "    - Static IP\n",
    "    - PAM Authentication\n",
    "    - Dedicated '/notebooks' directory for serving the notebook servers\n",
    "    - Used groups and permissions to control access\n",
    "        - Placed users in groups by department\n",
    "        - Additional usergroup called 'nbviewers' for all users\n",
    "        - 750 permissions on files and directories\n",
    "        - Directories owned by admin user and grouped by department group\n",
    "        - Files owned by admin user and grouped in 'nbviewers' usergroup\n",
    "    - Created dedicated Downloads directories for file output\n",
    "    - Erased the contents of those directories every evening with a CRON scheduled shell script\n",
    "    "
   ]
  },
  {
   "cell_type": "markdown",
   "metadata": {
    "slideshow": {
     "slide_type": "subslide"
    }
   },
   "source": [
    "# JupyterHub Configuration for Pythonic Reporting and Self-Service BI\n",
    "\n",
    "- SSL\n",
    "    - Let's Encrypt following JupyterHub instructions\n",
    "    - Done for personal JupyterHub website\n",
    "    "
   ]
  },
  {
   "cell_type": "markdown",
   "metadata": {
    "slideshow": {
     "slide_type": "subslide"
    }
   },
   "source": [
    "# JupyterHub Configuration for Pythonic Reporting and Self-Service BI\n",
    "\n",
    "- Daemonization (from JupyterHub GitHub issue on the subject)\n",
    "    - JupyterHub OOB is just run in the foreground as a regular application\n",
    "    - Implemented script to run JupyterHub as service\n",
    "         - Saved script to /etc/init.d/jupyterhub and made executable\n",
    "    - Originally a gist on JupyterHub github, copied to personal Repo.\n",
    "    - https://github.com/jupyterhub/jupyterhub/wiki/Run-jupyterhub-as-a-system-service\n",
    "    \n"
   ]
  },
  {
   "cell_type": "markdown",
   "metadata": {
    "slideshow": {
     "slide_type": "subslide"
    }
   },
   "source": [
    "# JupyterHub Configuration for Pythonic Reporting and Self-Service BI\n",
    "\n",
    "- Custom Notebook Standards\n",
    "    - Javascript Magic to hide code cells using JQuery and expose a button to reveal code\n",
    "    - Top and bottom of notebook"
   ]
  },
  {
   "cell_type": "markdown",
   "metadata": {
    "slideshow": {
     "slide_type": "subslide"
    }
   },
   "source": [
    "# JupyterHub Configuration for Pythonic Reporting and Self-Service BI\n",
    "\n",
    "- Jupyter Extension Summary\n",
    "    - Jupyter supports extensions written in JavaScript that operate on on the actual web page serving the notebook. \n",
    "     - https://legacy.gitbook.com/book/carreau/jupyter-book/details older, but in-depth overview of the subject\n",
    "     - Standard 'extra' extension set \n",
    "         - https://github.com/ipython-contrib/jupyter_contrib_nbextensions\n",
    "         - Also covers nbextension enabling"
   ]
  },
  {
   "cell_type": "markdown",
   "metadata": {
    "slideshow": {
     "slide_type": "subslide"
    }
   },
   "source": [
    "# JupyterHub Configuration for Pythonic Reporting and Self-Service BI\n",
    "\n",
    "- Custom Extensions\n",
    "    - Non-Admin Users\n",
    "        - Run notebook on load\n",
    "        - Create buttons for running entire notebook, closing and halting notebook\n",
    "    - Admin Users\n",
    "        - Create buttons for running entire notebook, closing and halting notebook"
   ]
  },
  {
   "cell_type": "markdown",
   "metadata": {
    "slideshow": {
     "slide_type": "slide"
    }
   },
   "source": [
    "# Result @ Cenveo\n",
    "\n",
    "- ~25 users @ max\n",
    "- Usage widespread from plants to VPs\n",
    "    - Operations, sales, supply chain, and logistics departments\n",
    "    - VP of SC&O used for reporting\n",
    "    - Demoed to company president\n",
    "- Hosted metrics central to Sales And Operations Planning Process\n",
    "- Hosted other data analysis work for VP of Logistics and other stakeholders"
   ]
  },
  {
   "cell_type": "markdown",
   "metadata": {
    "slideshow": {
     "slide_type": "slide"
    }
   },
   "source": [
    "# Possible Improvements\n",
    "\n",
    "- Security\n",
    "    - Hiding code before execution\n",
    "    - Disabling terminals for non-admin users\n",
    "    - Rendering notebooks invisible outside of JupyterHub to non-admin users\n",
    "    - Isolating single-server processes away from other system process to prevent users from running bash magics\n",
    "    - Suggestions welcome\n",
    "- Authentication\n",
    "    - Non-PAM authentication\n",
    "    - SSO for organizations?\n",
    "- Spawning \n",
    "    - Spawning in containers away from local system processes\n",
    "\n",
    "    "
   ]
  },
  {
   "cell_type": "markdown",
   "metadata": {
    "slideshow": {
     "slide_type": "subslide"
    }
   },
   "source": [
    "# Possible Improvements\n",
    "\n",
    "- Location\n",
    "    - Locating notebook directory not in root directory\n",
    "- Presentation \n",
    "    - Integrating Jupyter Dashboards\n",
    "        - https://github.com/jupyter/dashboards\n",
    "        - May need future maintenance\n",
    "- Future\n",
    "    - BinderHub\n",
    "        - https://github.com/jupyterhub/binderhub\n",
    "    - JupyterHub -> JupyterLab\n",
    "        - https://github.com/jupyterlab/jupyterlab"
   ]
  },
  {
   "cell_type": "markdown",
   "metadata": {
    "slideshow": {
     "slide_type": "slide"
    }
   },
   "source": [
    "# Review\n",
    "\n",
    "- JupyterHub is multi-user implementation of Jupyter Notebooks\n",
    "- Extensive configuration is available\n",
    "- Can be customized for specific application as a 'BI' tool\n",
    "- JupyterHub may be supplanted by JupyterLab later 2018"
   ]
  },
  {
   "cell_type": "markdown",
   "metadata": {
    "slideshow": {
     "slide_type": "slide"
    }
   },
   "source": [
    "# FINE\n",
    "\n",
    "- Sources\n",
    "    - Github Jupyter/JupyterHub/JupyterLab\n",
    "    - Read the docs: Jupyter/JupyterHub\n",
    "    - NPM website"
   ]
  }
 ],
 "metadata": {
  "celltoolbar": "Slideshow",
  "kernelspec": {
   "display_name": "Python 3",
   "language": "python",
   "name": "python3"
  },
  "language_info": {
   "codemirror_mode": {
    "name": "ipython",
    "version": 3
   },
   "file_extension": ".py",
   "mimetype": "text/x-python",
   "name": "python",
   "nbconvert_exporter": "python",
   "pygments_lexer": "ipython3",
   "version": "3.6.4"
  }
 },
 "nbformat": 4,
 "nbformat_minor": 2
}
